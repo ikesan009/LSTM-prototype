{
 "cells": [
  {
   "cell_type": "code",
   "execution_count": 19,
   "metadata": {},
   "outputs": [],
   "source": [
    "import tensorflow as tf\n",
    "import os\n",
    "import os.path\n",
    "\n",
    "class main(object):\n",
    "    \n",
    "    PATH_DATASET = '/media/ikesan009/B418B4D718B499B6/research/CENSREC/dataset'\n",
    "    MFCC_DIM = 39\n",
    "    BATCH_SIZE = 1\n",
    "    \n",
    "    def input(self, path_tfr, MFCC_DIM, BATCH_SIZE):\n",
    "        file_name_queue = tf.train.string_input_producer([path_tfr])\n",
    "        reader = tf.TFRecordReader()\n",
    "        _, serialized_example = reader.read(file_name_queue)\n",
    "        features = tf.parse_single_example(\n",
    "            serialized_example,\n",
    "            features={\n",
    "                \"label\": tf.FixedLenFeature([], tf.int64),\n",
    "                \"data\": tf.FixedLenFeature([], tf.string),\n",
    "            })\n",
    "        datas, labels = tf.train.shuffle_batch(\n",
    "            [tf.cast(features['data'], tf.float32), tf.cast(features['label'], tf.int32)],\n",
    "            batch_size=BATCH_SIZE,capacity=10000+MFCC_DIM*BATCH_SIZE,min_after_dequeue=10000\n",
    "        )\n",
    "        return datas, labels"
   ]
  },
  {
   "cell_type": "code",
   "execution_count": 20,
   "metadata": {},
   "outputs": [
    {
     "data": {
      "text/plain": [
       "(<tf.Tensor 'shuffle_batch_1:0' shape=(1,) dtype=float32>,\n",
       " <tf.Tensor 'shuffle_batch_1:1' shape=(1,) dtype=int32>)"
      ]
     },
     "execution_count": 20,
     "metadata": {},
     "output_type": "execute_result"
    }
   ],
   "source": [
    "m = main()\n",
    "m.input(os.path.join(m.PATH_DATASET, 'train-male.tfrecords'), m.MFCC_DIM, m.BATCH_SIZE)"
   ]
  }
 ],
 "metadata": {
  "kernelspec": {
   "display_name": "Python 3",
   "language": "python",
   "name": "python3"
  },
  "language_info": {
   "codemirror_mode": {
    "name": "ipython",
    "version": 3
   },
   "file_extension": ".py",
   "mimetype": "text/x-python",
   "name": "python",
   "nbconvert_exporter": "python",
   "pygments_lexer": "ipython3",
   "version": "3.6.1"
  }
 },
 "nbformat": 4,
 "nbformat_minor": 2
}
