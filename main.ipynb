{
 "cells": [
  {
   "cell_type": "code",
   "execution_count": 20,
   "metadata": {
    "collapsed": true
   },
   "outputs": [],
   "source": [
    "import tensorflow as tf\n",
    "import os\n",
    "import os.path\n",
    "\n",
    "class main(object):\n",
    "    \n",
    "    PATH_DATASET = '/media/ikesan009/B418B4D718B499B6/research/CENSREC/dataset'\n",
    "    MFCC_DIM = 39\n",
    "    BATCH_SIZE = 30\n",
    "    LEN_SEQ = 300\n",
    "    \n",
    "    def input(self, path_tfr, MFCC_DIM, BATCH_SIZE):\n",
    "        file_name_queue = tf.train.string_input_producer([path_tfr])\n",
    "        reader = tf.TFRecordReader()\n",
    "        _, serialized_example = reader.read(file_name_queue)\n",
    "        features = tf.parse_single_example(\n",
    "            serialized_example,\n",
    "            features={\n",
    "                'label': tf.FixedLenFeature([], tf.int64),\n",
    "                'data': tf.FixedLenFeature([], tf.string),\n",
    "            })\n",
    "        \n",
    "        datas = tf.decode_raw(features['data'], tf.float32)\n",
    "        labels = tf.cast(features['label'], tf.int32)\n",
    "        \n",
    "        datas = tf.reshape(datas, [self.LEN_SEQ, MFCC_DIM])\n",
    "        labels = tf.reshape(labels, [1])\n",
    "\n",
    "        datas, labels = tf.train.shuffle_batch(\n",
    "            [datas, labels],\n",
    "            batch_size=BATCH_SIZE,capacity=1000+MFCC_DIM*BATCH_SIZE,min_after_dequeue=1000\n",
    "        )\n",
    "            \n",
    "        return datas, labels\n",
    "    \n",
    "    def train(self):\n",
    "        x = tf.placeholder(tf.float32, shape=[None, self.LEN_SEQ, self.MFCC_DIM])\n",
    "\n",
    "        datas, labels = self.input(os.path.join(self.PATH_DATASET, 'train-male.tfrecords'), self.MFCC_DIM, self.BATCH_SIZE)\n",
    "        init_op = [tf.global_variables_initializer(), tf.local_variables_initializer()]\n",
    "        \n",
    "        with tf.Session() as sess:\n",
    "            sess.run(init_op)\n",
    "            coord = tf.train.Coordinator()\n",
    "            threads = tf.train.start_queue_runners(sess=sess, coord=coord)\n",
    "            batch = sess.run([datas, labels])\n",
    "            print(batch[1])\n",
    "            coord.request_stop()\n",
    "            coord.join(threads)"
   ]
  },
  {
   "cell_type": "code",
   "execution_count": 21,
   "metadata": {},
   "outputs": [
    {
     "name": "stdout",
     "output_type": "stream",
     "text": [
      "[[ 0]\n",
      " [11]\n",
      " [ 5]\n",
      " [ 8]\n",
      " [10]\n",
      " [10]\n",
      " [15]\n",
      " [ 4]\n",
      " [18]\n",
      " [ 7]\n",
      " [16]\n",
      " [21]\n",
      " [ 8]\n",
      " [ 7]\n",
      " [11]\n",
      " [ 8]\n",
      " [21]\n",
      " [ 6]\n",
      " [12]\n",
      " [ 2]\n",
      " [14]\n",
      " [21]\n",
      " [18]\n",
      " [ 6]\n",
      " [ 5]\n",
      " [18]\n",
      " [21]\n",
      " [ 6]\n",
      " [ 0]\n",
      " [ 8]]\n"
     ]
    }
   ],
   "source": [
    "m = main()\n",
    "#m.input(os.path.join(m.PATH_DATASET, 'train-male.tfrecords'), m.MFCC_DIM, m.BATCH_SIZE)\n",
    "m.train()"
   ]
  }
 ],
 "metadata": {
  "kernelspec": {
   "display_name": "Python 3",
   "language": "python",
   "name": "python3"
  },
  "language_info": {
   "codemirror_mode": {
    "name": "ipython",
    "version": 3
   },
   "file_extension": ".py",
   "mimetype": "text/x-python",
   "name": "python",
   "nbconvert_exporter": "python",
   "pygments_lexer": "ipython3",
   "version": "3.6.1"
  }
 },
 "nbformat": 4,
 "nbformat_minor": 2
}
